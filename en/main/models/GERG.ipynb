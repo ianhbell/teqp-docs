{
 "cells": [
  {
   "cell_type": "markdown",
   "id": "a6e6ebc7",
   "metadata": {},
   "source": [
    "# GERG \n",
    "\n",
    "In the GERG-2004 and GERG-2008 models, the pure fluids are modeled with high-accuracy multiparameter EOS. The model is covered exhaustively in the GERG-2004 monograph: https://www.gerg.eu/wp-content/uploads/2019/10/TM15.pdf  and in the GERG-2008 paper: https://doi.org/10.1021/je300655b\n",
    "\n",
    "The following components are supported (case-sensitive) in GERG-2004:\n",
    "\n",
    "* methane\n",
    "* nitrogen\n",
    "* carbondioxide\n",
    "* ethane\n",
    "* propane\n",
    "* n-butane\n",
    "* isobutane\n",
    "* n-pentane\n",
    "* isopentane\n",
    "* n-hexane\n",
    "* n-heptane\n",
    "* n-octane\n",
    "* hydrogen\n",
    "* oxygen\n",
    "* carbonmonoxide\n",
    "* water\n",
    "* helium\n",
    "* argon\n",
    "\n",
    "and GERG-2008 adds the components:\n",
    "\n",
    "* hydrogensulfide\n",
    "* n-nonane\n",
    "* n-decane\n",
    "\n",
    "(as well as modifying the pure component EOS for carbon monoxide and isopentane). \n",
    "\n",
    "The interaction parameters and departure functions are not editable (by design) and the EOS parameters are hard-coded. No ancillary equations are available along with the GERG-2004 model, but you can use the on-the-fly ancillary generator of teqp.\n",
    "\n",
    "The residual portions of these models were added in version 0.18.0, and it is planned to add the ideal-gas portions as well at a later date. The residual portion is enough for many applications like phase equilibria and critical locus tracing.\n",
    "\n",
    "The kind is 'GERG2004resid' for the GERG-2004 residual model and 'GERG2008resid' for the GERG-2008 residual model"
   ]
  },
  {
   "cell_type": "code",
   "execution_count": 1,
   "id": "0789f562",
   "metadata": {
    "execution": {
     "iopub.execute_input": "2024-01-05T00:15:40.662428Z",
     "iopub.status.busy": "2024-01-05T00:15:40.662003Z",
     "iopub.status.idle": "2024-01-05T00:15:41.130501Z",
     "shell.execute_reply": "2024-01-05T00:15:41.129979Z"
    }
   },
   "outputs": [
    {
     "data": {
      "text/plain": [
       "'0.18.0'"
      ]
     },
     "execution_count": 1,
     "metadata": {},
     "output_type": "execute_result"
    }
   ],
   "source": [
    "import teqp\n",
    "import numpy as np\n",
    "import pandas\n",
    "import matplotlib.pyplot as plt\n",
    "\n",
    "teqp.__version__"
   ]
  },
  {
   "cell_type": "code",
   "execution_count": 2,
   "id": "dcaa96c9",
   "metadata": {
    "execution": {
     "iopub.execute_input": "2024-01-05T00:15:41.132625Z",
     "iopub.status.busy": "2024-01-05T00:15:41.132399Z",
     "iopub.status.idle": "2024-01-05T00:15:41.135581Z",
     "shell.execute_reply": "2024-01-05T00:15:41.135144Z"
    }
   },
   "outputs": [],
   "source": [
    "model = teqp.make_model({'kind':\"GERG2004resid\", 'model':{\"names\": ['methane','ethane']}})"
   ]
  },
  {
   "cell_type": "code",
   "execution_count": 3,
   "id": "90cd0540",
   "metadata": {
    "execution": {
     "iopub.execute_input": "2024-01-05T00:15:41.137429Z",
     "iopub.status.busy": "2024-01-05T00:15:41.137267Z",
     "iopub.status.idle": "2024-01-05T00:15:41.338217Z",
     "shell.execute_reply": "2024-01-05T00:15:41.337647Z"
    },
    "tags": [
     "raises-exception"
    ]
   },
   "outputs": [
    {
     "ename": "ValueError",
     "evalue": "Unable to load pure info forMeThAnE",
     "output_type": "error",
     "traceback": [
      "\u001b[0;31m---------------------------------------------------------------------------\u001b[0m",
      "\u001b[0;31mValueError\u001b[0m                                Traceback (most recent call last)",
      "Cell \u001b[0;32mIn[3], line 2\u001b[0m\n\u001b[1;32m      1\u001b[0m \u001b[38;5;66;03m# Note that names are case-sensitive; this doesn't work\u001b[39;00m\n\u001b[0;32m----> 2\u001b[0m model \u001b[38;5;241m=\u001b[39m \u001b[43mteqp\u001b[49m\u001b[38;5;241;43m.\u001b[39;49m\u001b[43mmake_model\u001b[49m\u001b[43m(\u001b[49m\u001b[43m{\u001b[49m\u001b[38;5;124;43m'\u001b[39;49m\u001b[38;5;124;43mkind\u001b[39;49m\u001b[38;5;124;43m'\u001b[39;49m\u001b[43m:\u001b[49m\u001b[38;5;124;43m\"\u001b[39;49m\u001b[38;5;124;43mGERG2004resid\u001b[39;49m\u001b[38;5;124;43m\"\u001b[39;49m\u001b[43m,\u001b[49m\u001b[43m \u001b[49m\u001b[38;5;124;43m'\u001b[39;49m\u001b[38;5;124;43mmodel\u001b[39;49m\u001b[38;5;124;43m'\u001b[39;49m\u001b[43m:\u001b[49m\u001b[43m{\u001b[49m\u001b[38;5;124;43m\"\u001b[39;49m\u001b[38;5;124;43mnames\u001b[39;49m\u001b[38;5;124;43m\"\u001b[39;49m\u001b[43m:\u001b[49m\u001b[43m \u001b[49m\u001b[43m[\u001b[49m\u001b[38;5;124;43m'\u001b[39;49m\u001b[38;5;124;43mMeThAnE\u001b[39;49m\u001b[38;5;124;43m'\u001b[39;49m\u001b[43m,\u001b[49m\u001b[38;5;124;43m'\u001b[39;49m\u001b[38;5;124;43methane\u001b[39;49m\u001b[38;5;124;43m'\u001b[39;49m\u001b[43m]\u001b[49m\u001b[43m}\u001b[49m\u001b[43m}\u001b[49m\u001b[43m)\u001b[49m\n",
      "File \u001b[0;32m/opt/conda/lib/python3.11/site-packages/teqp/__init__.py:47\u001b[0m, in \u001b[0;36mmake_model\u001b[0;34m(*args, **kwargs)\u001b[0m\n\u001b[1;32m     42\u001b[0m \u001b[38;5;28;01mdef\u001b[39;00m \u001b[38;5;21mmake_model\u001b[39m(\u001b[38;5;241m*\u001b[39margs, \u001b[38;5;241m*\u001b[39m\u001b[38;5;241m*\u001b[39mkwargs):\n\u001b[1;32m     43\u001b[0m \u001b[38;5;250m    \u001b[39m\u001b[38;5;124;03m\"\"\"\u001b[39;00m\n\u001b[1;32m     44\u001b[0m \u001b[38;5;124;03m    This function is in two parts; first the make_model function (renamed to _make_model in the Python interface)\u001b[39;00m\n\u001b[1;32m     45\u001b[0m \u001b[38;5;124;03m    is used to make the model and then the model-specific methods are attached to the instance\u001b[39;00m\n\u001b[1;32m     46\u001b[0m \u001b[38;5;124;03m    \"\"\"\u001b[39;00m\n\u001b[0;32m---> 47\u001b[0m     AS \u001b[38;5;241m=\u001b[39m \u001b[43m_make_model\u001b[49m\u001b[43m(\u001b[49m\u001b[38;5;241;43m*\u001b[39;49m\u001b[43margs\u001b[49m\u001b[43m,\u001b[49m\u001b[43m \u001b[49m\u001b[38;5;241;43m*\u001b[39;49m\u001b[38;5;241;43m*\u001b[39;49m\u001b[43mkwargs\u001b[49m\u001b[43m)\u001b[49m\n\u001b[1;32m     48\u001b[0m     attach_model_specific_methods(AS)\n\u001b[1;32m     49\u001b[0m     \u001b[38;5;28;01mreturn\u001b[39;00m AS\n",
      "\u001b[0;31mValueError\u001b[0m: Unable to load pure info forMeThAnE"
     ]
    }
   ],
   "source": [
    "# Note that names are case-sensitive; this doesn't work\n",
    "model = teqp.make_model({'kind':\"GERG2004resid\", 'model':{\"names\": ['MeThAnE','ethane']}})"
   ]
  },
  {
   "cell_type": "code",
   "execution_count": 4,
   "id": "c99900a9",
   "metadata": {
    "execution": {
     "iopub.execute_input": "2024-01-05T00:15:41.340397Z",
     "iopub.status.busy": "2024-01-05T00:15:41.340226Z",
     "iopub.status.idle": "2024-01-05T00:15:41.560800Z",
     "shell.execute_reply": "2024-01-05T00:15:41.560254Z"
    }
   },
   "outputs": [
    {
     "data": {
      "image/png": "[encoded data removed]",
      "text/plain": [
       "<Figure size 640x480 with 1 Axes>"
      ]
     },
     "metadata": {},
     "output_type": "display_data"
    }
   ],
   "source": [
    "# Here we trace the critical locus for methane+ethane\n",
    "rhovec0 = np.array([0.0, 0.0])\n",
    "ifluid = 0\n",
    "T0 = model.get_Tcvec()[0]\n",
    "rhovec0[ifluid] = 1/model.get_vcvec()[0]\n",
    "trace = model.trace_critical_arclength_binary(T0=T0, rhovec0=rhovec0)\n",
    "df = pandas.DataFrame(trace)\n",
    "plt.plot(df['T / K'], df['p / Pa'])\n",
    "plt.gca().set(xlabel='$T$ / K', ylabel='$p$ / Pa');"
   ]
  },
  {
   "cell_type": "code",
   "execution_count": 5,
   "id": "78b8faf7",
   "metadata": {
    "execution": {
     "iopub.execute_input": "2024-01-05T00:15:41.563215Z",
     "iopub.status.busy": "2024-01-05T00:15:41.562792Z",
     "iopub.status.idle": "2024-01-05T00:15:41.565654Z",
     "shell.execute_reply": "2024-01-05T00:15:41.565217Z"
    }
   },
   "outputs": [],
   "source": [
    "model = teqp.make_model({'kind':\"GERG2004resid\", 'model':{\"names\": ['methane']}})"
   ]
  },
  {
   "cell_type": "code",
   "execution_count": 6,
   "id": "c8c11235",
   "metadata": {
    "execution": {
     "iopub.execute_input": "2024-01-05T00:15:41.567717Z",
     "iopub.status.busy": "2024-01-05T00:15:41.567375Z",
     "iopub.status.idle": "2024-01-05T00:15:41.601116Z",
     "shell.execute_reply": "2024-01-05T00:15:41.600610Z"
    }
   },
   "outputs": [
    {
     "data": {
      "text/plain": [
       "(27361.12577999801, 42.046298502526746, 'mol/m^3 for liquid and vapor')"
      ]
     },
     "execution_count": 6,
     "metadata": {},
     "output_type": "execute_result"
    }
   ],
   "source": [
    "# Build an on-the-fly ancillary equation \n",
    "# (not as accurate as the specialized ones, but works acceptably in many cases)\n",
    "anc = teqp.build_ancillaries(model, Tc=model.get_Tcvec()[0], rhoc = 1/model.get_vcvec()[0], Tmin=60)\n",
    "\n",
    "# And then use the dynamic ancillary to calculate VLE at 100 K\n",
    "T = 100 # K\n",
    "rhoL, rhoV = model.pure_VLE_T(T, anc.rhoL(T), anc.rhoV(T), 10)\n",
    "rhoL, rhoV, 'mol/m^3 for liquid and vapor'"
   ]
  }
 ],
 "metadata": {
  "kernelspec": {
   "display_name": "Python 3 (ipykernel)",
   "language": "python",
   "name": "python3"
  },
  "language_info": {
   "codemirror_mode": {
    "name": "ipython",
    "version": 3
   },
   "file_extension": ".py",
   "mimetype": "text/x-python",
   "name": "python",
   "nbconvert_exporter": "python",
   "pygments_lexer": "ipython3",
   "version": "3.11.0"
  }
 },
 "nbformat": 4,
 "nbformat_minor": 5
}
