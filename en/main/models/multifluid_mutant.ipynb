{
 "cells": [
  {
   "cell_type": "markdown",
   "id": "d4e67406",
   "metadata": {},
   "source": [
    "# Multfluid mutant\n",
    "\n",
    "These adapted multifluid models are used for fitting departure functions. The pure fluids remain fixed while you can adjust the mixture model, both the interaction parameters as well as the departure function terms"
   ]
  },
  {
   "cell_type": "code",
   "execution_count": 1,
   "id": "3579cfa2",
   "metadata": {
    "execution": {
     "iopub.execute_input": "2023-10-02T21:19:41.300645Z",
     "iopub.status.busy": "2023-10-02T21:19:41.299983Z",
     "iopub.status.idle": "2023-10-02T21:19:41.377917Z",
     "shell.execute_reply": "2023-10-02T21:19:41.377403Z"
    }
   },
   "outputs": [
    {
     "data": {
      "text/plain": [
       "'0.17.0'"
      ]
     },
     "execution_count": 1,
     "metadata": {},
     "output_type": "execute_result"
    }
   ],
   "source": [
    "import teqp, numpy as np\n",
    "teqp.__version__"
   ]
  },
  {
   "cell_type": "code",
   "execution_count": 2,
   "id": "ee024418",
   "metadata": {
    "execution": {
     "iopub.execute_input": "2023-10-02T21:19:41.382050Z",
     "iopub.status.busy": "2023-10-02T21:19:41.380910Z",
     "iopub.status.idle": "2023-10-02T21:19:41.397513Z",
     "shell.execute_reply": "2023-10-02T21:19:41.396999Z"
    }
   },
   "outputs": [],
   "source": [
    "basemodel = teqp.build_multifluid_model(['Nitrogen','Ethane'], teqp.get_datapath())\n",
    "s = {\n",
    "    \"0\": {\n",
    "        \"1\": {\n",
    "            \"BIP\": {\n",
    "                \"betaT\": 1.1,\n",
    "                \"gammaT\": 0.9,\n",
    "                \"betaV\": 1.05,\n",
    "                \"gammaV\": 1.3,\n",
    "                \"Fij\": 1.0\n",
    "            },\n",
    "            \"departure\":{\n",
    "                \"type\": \"none\"\n",
    "            }\n",
    "        }\n",
    "    }\n",
    "}\n",
    "mutant = teqp.build_multifluid_mutant(basemodel, s)"
   ]
  },
  {
   "cell_type": "code",
   "execution_count": 3,
   "id": "1eeef8db",
   "metadata": {
    "execution": {
     "iopub.execute_input": "2023-10-02T21:19:41.401232Z",
     "iopub.status.busy": "2023-10-02T21:19:41.400263Z",
     "iopub.status.idle": "2023-10-02T21:19:45.013127Z",
     "shell.execute_reply": "2023-10-02T21:19:45.012358Z"
    }
   },
   "outputs": [
    {
     "name": "stdout",
     "output_type": "stream",
     "text": [
      "35.7 µs ± 2.81 µs per loop (mean ± std. dev. of 7 runs, 10,000 loops each)\n"
     ]
    }
   ],
   "source": [
    "%timeit teqp.build_multifluid_mutant(basemodel, s)"
   ]
  },
  {
   "cell_type": "code",
   "execution_count": 4,
   "id": "53af2daf",
   "metadata": {
    "execution": {
     "iopub.execute_input": "2023-10-02T21:19:45.016825Z",
     "iopub.status.busy": "2023-10-02T21:19:45.016245Z",
     "iopub.status.idle": "2023-10-02T21:19:45.022223Z",
     "shell.execute_reply": "2023-10-02T21:19:45.021746Z"
    }
   },
   "outputs": [
    {
     "data": {
      "text/plain": [
       "-0.00017517184039893556"
      ]
     },
     "execution_count": 4,
     "metadata": {},
     "output_type": "execute_result"
    }
   ],
   "source": [
    "mutant.get_Ar01(300, 3.0, np.array([0.5, 0.5]))"
   ]
  }
 ],
 "metadata": {
  "kernelspec": {
   "display_name": "Python 3 (ipykernel)",
   "language": "python",
   "name": "python3"
  },
  "language_info": {
   "codemirror_mode": {
    "name": "ipython",
    "version": 3
   },
   "file_extension": ".py",
   "mimetype": "text/x-python",
   "name": "python",
   "nbconvert_exporter": "python",
   "pygments_lexer": "ipython3",
   "version": "3.11.0"
  }
 },
 "nbformat": 4,
 "nbformat_minor": 5
}
