{
 "cells": [
  {
   "cell_type": "markdown",
   "id": "df447d16",
   "metadata": {},
   "source": [
    "# Cubic Plus Association (CPA)\n",
    "\n",
    "The combination of a cubic EOS with association with the association term. The sum of the terms goes like:\n",
    "$$\n",
    "\\alpha^{\\rm r} = \\alpha^{\\rm r}_{\\rm cub} + \\alpha^{\\rm r}_{\\rm assoc}\n",
    "$$\n",
    "\n",
    "## Cubic part\n",
    "\n",
    "The residual contribution to $\\alpha$ is expressed as the sum :\n",
    "$$\n",
    "\\alpha^{\\rm r}_{\\rm cub,rep} +\\alpha^{\\rm r}_{\\rm cub,att}\n",
    "$$ where the cubic parts come from\n",
    "\n",
    "The repulsive part of the cubic EOS contribution:\n",
    "$$\n",
    "\\alpha^{\\rm r}_{\\rm cub,rep} = -\\ln(1 - b_{\\rm mix}\\rho) \n",
    "$$\n",
    "The attractive part of the cubic EOS contribution:\n",
    "$$\n",
    "\\alpha^{\\rm r}_{\\rm cub,att} = -\\frac{a_{\\rm mix}}{RT}\\dfrac{\\ln\\left(\\frac{\\Delta_1 b_{\\rm mix}\\rho + 1}{\\Delta_2b_{\\rm mix}\\rho + 1}\\right)}{b_{\\rm mix}\\cdot(\\Delta_1 - \\Delta_2)}\n",
    "$$\n",
    "with the coefficients depending on the cubic type:\n",
    "\n",
    "SRK: $\\Delta_1=1$, $\\Delta_2=0$\n",
    "\n",
    "PR: $\\Delta_1=1+\\sqrt{2}$, $\\Delta_2=1-\\sqrt{2}$\n",
    "\n",
    "The mixture models used for the $a_{\\rm mix}$ and $b_{\\rm mix}$ are the classical ones:\n",
    "\n",
    "$$\n",
    "a_{\\rm mix} = \\sum_i\\sum_jx_ix_j(1-k_{ij})a_{ij}(T)\n",
    "$$\n",
    "with x the mole fraction, $k_{ij}$ a weighting parameter\n",
    "$$\n",
    "a_{ij}(T) = \\sqrt{a_ia_j}\n",
    "$$\n",
    "and\n",
    "$$\n",
    "a_{i}(T) = a_{0i}\\left[1+c_{1i}(1-\\sqrt{T/T_{{\\rm crit},i}})\\right]^2\n",
    "$$\n",
    "and for $b$:\n",
    "$$\n",
    "b_{\\rm mix} = \\sum_ix_ib_i\n",
    "$$\n",
    "so there are three cubic parameters per fluid that need to be obtained though fitting: $b_{i}$, $a_{0i}$, $c_{1i}$. The value of $a_{\\rm ij}$ depends on temperature while $b_{\\rm mix}$ does not.\n",
    "\n",
    "## Association part\n",
    "\n",
    "For the association, one must have a solid understanding of the association approach that is being applied. To this end, a short discussion of the general approach is required. \n",
    "\n"
   ]
  },
  {
   "cell_type": "code",
   "execution_count": null,
   "id": "2180ef67",
   "metadata": {},
   "outputs": [],
   "source": []
  }
 ],
 "metadata": {
  "kernelspec": {
   "display_name": "Python 3 (ipykernel)",
   "language": "python",
   "name": "python3"
  },
  "language_info": {
   "codemirror_mode": {
    "name": "ipython",
    "version": 3
   },
   "file_extension": ".py",
   "mimetype": "text/x-python",
   "name": "python",
   "nbconvert_exporter": "python",
   "pygments_lexer": "ipython3",
   "version": "3.11.0"
  }
 },
 "nbformat": 4,
 "nbformat_minor": 5
}
