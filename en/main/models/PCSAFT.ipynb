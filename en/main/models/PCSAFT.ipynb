{
 "cells": [
  {
   "cell_type": "markdown",
   "id": "f406bbb5",
   "metadata": {},
   "source": [
    "# PC-SAFT\n",
    "\n",
    "The PC-SAFT implementation in teqp is based on the implementation of Gross and Sadowski (https://doi.org/10.1021/ie0003887), with the typo from their paper fixed.  It does NOT include the association contribution, only the dispersive contributions.\n",
    "\n",
    "The model in teqp requires the user to specify the values of ``sigma``, ``epsilon/kB``, and ``m`` for each substance.  A very few substances are hardcoded in teqp, for testing purposes.  "
   ]
  },
  {
   "cell_type": "raw",
   "id": "d9efd027",
   "metadata": {
    "raw_mimetype": "text/restructuredtext"
   },
   "source": [
    "The Python class is here: :py:class:`PCSAFTEOS <teqp.teqp.PCSAFTEOS>`"
   ]
  },
  {
   "cell_type": "code",
   "execution_count": 1,
   "id": "984925ce",
   "metadata": {
    "execution": {
     "iopub.execute_input": "2023-10-02T22:01:09.644964Z",
     "iopub.status.busy": "2023-10-02T22:01:09.644531Z",
     "iopub.status.idle": "2023-10-02T22:01:09.730657Z",
     "shell.execute_reply": "2023-10-02T22:01:09.730071Z"
    }
   },
   "outputs": [
    {
     "data": {
      "text/plain": [
       "'0.17.0'"
      ]
     },
     "execution_count": 1,
     "metadata": {},
     "output_type": "execute_result"
    }
   ],
   "source": [
    "import teqp\n",
    "import numpy as np\n",
    "teqp.__version__"
   ]
  },
  {
   "cell_type": "code",
   "execution_count": 2,
   "id": "7bbd7129",
   "metadata": {
    "execution": {
     "iopub.execute_input": "2023-10-02T22:01:09.734641Z",
     "iopub.status.busy": "2023-10-02T22:01:09.733256Z",
     "iopub.status.idle": "2023-10-02T22:01:09.740829Z",
     "shell.execute_reply": "2023-10-02T22:01:09.740268Z"
    }
   },
   "outputs": [],
   "source": [
    "TeXkey = 'Gross-IECR-2001'\n",
    "ms = [1.0, 1.6069, 2.0020]\n",
    "eoverk = [150.03, 191.42, 208.11]\n",
    "sigmas = [3.7039, 3.5206, 3.6184]\n",
    "\n",
    "coeffs = []\n",
    "for i in range(len(ms)):\n",
    "    c = teqp.SAFTCoeffs()\n",
    "    c.m = ms[i]\n",
    "    c.epsilon_over_k = eoverk[i]\n",
    "    c.sigma_Angstrom = sigmas[i]\n",
    "    coeffs.append(c)\n",
    "    \n",
    "model = teqp.PCSAFTEOS(coeffs)"
   ]
  },
  {
   "cell_type": "code",
   "execution_count": 3,
   "id": "19ec9bfb",
   "metadata": {
    "execution": {
     "iopub.execute_input": "2023-10-02T22:01:09.745458Z",
     "iopub.status.busy": "2023-10-02T22:01:09.744367Z",
     "iopub.status.idle": "2023-10-02T22:01:22.330931Z",
     "shell.execute_reply": "2023-10-02T22:01:22.330195Z"
    }
   },
   "outputs": [
    {
     "name": "stdout",
     "output_type": "stream",
     "text": [
      "7.66 µs ± 38.9 ns per loop (mean ± std. dev. of 7 runs, 100,000 loops each)\n",
      "5.48 µs ± 7.9 ns per loop (mean ± std. dev. of 7 runs, 100,000 loops each)\n",
      "23.3 µs ± 386 ns per loop (mean ± std. dev. of 7 runs, 10,000 loops each)\n"
     ]
    }
   ],
   "source": [
    "# Here are some rudimentary timing results\n",
    "T = 300.0\n",
    "rhovec = np.array([3.0, 4.0, 5.0])\n",
    "rho = rhovec.sum()\n",
    "x = rhovec/np.sum(rhovec)\n",
    "%timeit model.get_fugacity_coefficients(T,rhovec)\n",
    "%timeit (-1.0)*model.get_Ar20(T, rho, x)\n",
    "%timeit model.get_partial_molar_volumes(T, rhovec)"
   ]
  },
  {
   "cell_type": "markdown",
   "id": "578630c8",
   "metadata": {},
   "source": [
    "The model parameters can be queried:"
   ]
  },
  {
   "cell_type": "code",
   "execution_count": 4,
   "id": "d4e47e54",
   "metadata": {
    "execution": {
     "iopub.execute_input": "2023-10-02T22:01:22.334702Z",
     "iopub.status.busy": "2023-10-02T22:01:22.334106Z",
     "iopub.status.idle": "2023-10-02T22:01:22.341641Z",
     "shell.execute_reply": "2023-10-02T22:01:22.340988Z"
    }
   },
   "outputs": [
    {
     "data": {
      "text/plain": [
       "(array([1.    , 1.6069, 2.002 ]),\n",
       " array([150.03, 191.42, 208.11]),\n",
       " array([3.7039, 3.5206, 3.6184]))"
      ]
     },
     "execution_count": 4,
     "metadata": {},
     "output_type": "execute_result"
    }
   ],
   "source": [
    "model.get_m(), model.get_epsilon_over_k_K(), model.get_sigma_Angstrom()"
   ]
  },
  {
   "cell_type": "markdown",
   "id": "5cbb382d",
   "metadata": {},
   "source": [
    "## Adjusting k_ij\n",
    "\n",
    "Fine-tuned values of $k_{ij}$ can be provided when instantiating the model.  A complete matrix of all the $k_{ij}$ values must be provided. This allows for asymmetric mixing models in which $k_{ij}\\neq k_{ji}$."
   ]
  },
  {
   "cell_type": "code",
   "execution_count": 5,
   "id": "a32c41b5",
   "metadata": {
    "execution": {
     "iopub.execute_input": "2023-10-02T22:01:22.344864Z",
     "iopub.status.busy": "2023-10-02T22:01:22.344273Z",
     "iopub.status.idle": "2023-10-02T22:01:22.350118Z",
     "shell.execute_reply": "2023-10-02T22:01:22.349490Z"
    }
   },
   "outputs": [],
   "source": [
    "k_01 = 0.01; k_10 = k_01\n",
    "kmat = [[0,k_01,0],[k_10,0,0],[0,0,0]]\n",
    "model = teqp.PCSAFTEOS(coeffs, kmat)"
   ]
  },
  {
   "cell_type": "code",
   "execution_count": 6,
   "id": "536fac81",
   "metadata": {
    "execution": {
     "iopub.execute_input": "2023-10-02T22:01:22.353067Z",
     "iopub.status.busy": "2023-10-02T22:01:22.352522Z",
     "iopub.status.idle": "2023-10-02T22:01:22.360530Z",
     "shell.execute_reply": "2023-10-02T22:01:22.359737Z"
    }
   },
   "outputs": [
    {
     "data": {
      "text/plain": [
       "array([[0.  , 0.01, 0.  ],\n",
       "       [0.01, 0.  , 0.  ],\n",
       "       [0.  , 0.  , 0.  ]])"
      ]
     },
     "execution_count": 6,
     "metadata": {},
     "output_type": "execute_result"
    }
   ],
   "source": [
    "# and the matrix of parameters can be printed back out\n",
    "model.get_kmat()"
   ]
  },
  {
   "cell_type": "markdown",
   "id": "ca52e844",
   "metadata": {},
   "source": [
    "## Superancillary\n",
    "\n",
    "The superancillary equation for PC-SAFT has been developed, and is much more involved than that of the cubic EOS. As a consequence, the superancillary equation has been provided as a separate package rather than integrating it into to teqp to minimize the binary size of teqp. It can be installed from PYPI with: ``pip install PCSAFTsuperanc``\n",
    "\n",
    "The scaling in the superancillaries uses reduced variables:\n",
    "\n",
    "$$ \\tilde T = T/(\\epsilon/k_{\\rm B}) $$\n",
    "$$ \\tilde\\rho = \\rho_{\\rm N}\\sigma^3 $$\n",
    "\n",
    "where $\\rho_{\\rm N}$ is the number density, and the other parameters are from the PC-SAFT model"
   ]
  },
  {
   "cell_type": "code",
   "execution_count": 7,
   "id": "f6e3b8d2",
   "metadata": {
    "execution": {
     "iopub.execute_input": "2023-10-02T22:01:22.363694Z",
     "iopub.status.busy": "2023-10-02T22:01:22.363140Z",
     "iopub.status.idle": "2023-10-02T22:01:22.391097Z",
     "shell.execute_reply": "2023-10-02T22:01:22.390376Z"
    }
   },
   "outputs": [
    {
     "name": "stdout",
     "output_type": "stream",
     "text": [
      "Ttilde crit: 2.648680568587752\n",
      "Pressures are: 227809.12314460654 227809.12314409122 Pa\n"
     ]
    }
   ],
   "source": [
    "import PCSAFTsuperanc\n",
    "\n",
    "sigma_m = 3e-10 # [meter]\n",
    "e_over_k = 150.0 # [K]\n",
    "m = 5\n",
    "\n",
    "# The saturation temperature\n",
    "T = 300\n",
    "\n",
    "[Ttilde_crit, Ttilde_min] = PCSAFTsuperanc.get_Ttilde_crit_min(m=m)\n",
    "print('Ttilde crit:', Ttilde_crit)\n",
    "\n",
    "# Get the scaled densities for liquid and vapor phases\n",
    "[tilderhoL, tilderhoV] = PCSAFTsuperanc.PCSAFTsuperanc_rhoLV(Ttilde=T/e_over_k, m=m)\n",
    "# Convert back to molar densities\n",
    "N_A = PCSAFTsuperanc.N_A # The value of Avogadro's constant used in superancillaries\n",
    "rhoL, rhoV = [tilderho/(N_A*sigma_m**3) for tilderho in [tilderhoL, tilderhoV]]\n",
    "\n",
    "# As a sanity check, confirm that we got the same pressure in both phases\n",
    "c = teqp.SAFTCoeffs()\n",
    "c.sigma_Angstrom = sigma_m*1e10\n",
    "c.epsilon_over_k = e_over_k \n",
    "c.m = m\n",
    "model = teqp.PCSAFTEOS([c])\n",
    "z = np.array([1.0])\n",
    "pL = rhoL*model.get_R(z)*T*(1+model.get_Ar01(T, rhoL, z))\n",
    "pV = rhoV*model.get_R(z)*T*(1+model.get_Ar01(T, rhoV, z))\n",
    "print('Pressures are:', pL, pV, 'Pa')"
   ]
  },
  {
   "cell_type": "markdown",
   "id": "0bdf568f",
   "metadata": {},
   "source": [
    "## Maximum density\n",
    "\n",
    "The maximum number density allowed by the EOS is defined based on the packing fraction. To get a molar density, divide by Avogadro's number. The function is conveniently exposed in Python:"
   ]
  },
  {
   "cell_type": "code",
   "execution_count": 8,
   "id": "3c8491a9",
   "metadata": {
    "execution": {
     "iopub.execute_input": "2023-10-02T22:01:22.395230Z",
     "iopub.status.busy": "2023-10-02T22:01:22.394577Z",
     "iopub.status.idle": "2023-10-02T22:01:22.402123Z",
     "shell.execute_reply": "2023-10-02T22:01:22.401601Z"
    }
   },
   "outputs": [
    {
     "data": {
      "text/plain": [
       "1.9139171771761775e+28"
      ]
     },
     "metadata": {},
     "output_type": "display_data"
    },
    {
     "data": {
      "text/plain": [
       "31782.085306811314"
      ]
     },
     "execution_count": 8,
     "metadata": {},
     "output_type": "execute_result"
    }
   ],
   "source": [
    "max_rhoN = teqp.PCSAFTEOS(coeffs).max_rhoN(130.0, np.array([0.3, 0.3, 0.4]))\n",
    "display(max_rhoN)\n",
    "max_rhoN/6.022e23 # the maximum molar density in mol/m^3"
   ]
  },
  {
   "cell_type": "markdown",
   "id": "5b310ef6",
   "metadata": {},
   "source": [
    "## Polar contributions\n",
    "\n",
    "As of teqp version 0.15, quadrupolar and dipolar contributions have been added to the hard chain plus dispersion model which is referred to conventionally as PC-SAFT. The definitions of the reduced dipolar and quadrupolar parameters are not well documented, so they are given here. The work of Stoll, Vrabec, and Hasse (https://doi.org/10.1063/1.1623475) clearly describes the formulation of the star-scaling. \n",
    "\n",
    "In SI units, the reduced squared dipole moment is defined by\n",
    "$$\n",
    "\t(\\mu^*)^2_{\\rm conventional} = \\frac{(\\mu[Cm])^2}{4\\pi\\epsilon_0(\\varepsilon[J])(\\sigma[m])^3}\n",
    "$$\n",
    "\n",
    "$$\n",
    "\t(Q^*)^2_{\\rm conventional} = \\frac{(\\mu[Cm])^2}{4\\pi\\epsilon_0(\\varepsilon[J])(\\sigma[m])^5}\n",
    "$$\n",
    "\n",
    "In the PC-SAFT formulation, the only difference is the addition of dividing the denominator by the number of segments $m$\n",
    "\n",
    "$$\n",
    "\t(\\mu^*)^2 = \\frac{(\\mu[Cm])^2}{4\\pi\\epsilon_0m(\\varepsilon/k_{\\rm B}[K])k_B(\\sigma[m])^3}\n",
    "$$\n",
    "$$\n",
    "(Q^*)^2 = \\frac{(Q[Cm^2])^2}{4\\pi\\epsilon_0m(\\varepsilon/k_B[K])k_B(\\sigma[m])^5}\n",
    "$$\n",
    "\n",
    "The unit conversions are obtained from\n",
    "$$\n",
    "(\\sigma[m]) = (10^{-10}m/A)(\\sigma[A])\n",
    "$$\n",
    "$$\n",
    "(\\mu[Cm]) = (3.33564 \\times 10^{-30}  Cm/D)(\\mu[D])\n",
    "$$\n",
    "and $\\epsilon_0=8.85419e-12$ C$^2$  N$^{-1}$ m$^{-2}$ is the permittivity of vacuum. "
   ]
  },
  {
   "cell_type": "code",
   "execution_count": 9,
   "id": "01a3552d",
   "metadata": {
    "execution": {
     "iopub.execute_input": "2023-10-02T22:01:22.405482Z",
     "iopub.status.busy": "2023-10-02T22:01:22.405006Z",
     "iopub.status.idle": "2023-10-02T22:01:23.718943Z",
     "shell.execute_reply": "2023-10-02T22:01:23.718228Z"
    }
   },
   "outputs": [
    {
     "data": {
      "image/png": "[encoded data removed]",
      "text/plain": [
       "<Figure size 640x480 with 1 Axes>"
      ]
     },
     "metadata": {},
     "output_type": "display_data"
    }
   ],
   "source": [
    "# CO2 with quadrupolar contributions\n",
    "j = {\n",
    "    'kind': 'PCSAFT',\n",
    "    'model': {\n",
    "        'coeffs': [{\n",
    "            'name': 'CO2',\n",
    "             'BibTeXKey': 'Gross-AICHEJ',\n",
    "             'm': 1.5131,\n",
    "             'sigma_Angstrom': 3.1869,\n",
    "             'epsilon_over_k': 169.33,\n",
    "             '(Q^*)^2': 1.26, # modified from the values in Gross and Vrabec since the base model is different\n",
    "             'nQ': 1\n",
    "        }]\n",
    "    }\n",
    "}\n",
    "\n",
    "model = teqp.make_model(j)\n",
    "Tc, rhoc = model.solve_pure_critical(300, 11000)\n",
    "\n",
    "T = Tc*0.999\n",
    "rhoL_, rhoV_ = model.extrapolate_from_critical(Tc, rhoc, T)\n",
    "rhoL, rhoV = model.pure_VLE_T(T, rhoL_, rhoV_, 10)\n",
    "\n",
    "import CoolProp.CoolProp as CP\n",
    "import matplotlib.pyplot as plt\n",
    "import pandas\n",
    "o = []\n",
    "for T_ in np.linspace(T, 215, 1000):\n",
    "    rhoL, rhoV = model.pure_VLE_T(T_, rhoL, rhoV, 10)\n",
    "    try:\n",
    "        o.append({\n",
    "          'T': T_, 'rhoL': rhoL, 'rhoV': rhoV, \n",
    "          'rhoLSW': CP.PropsSI('Dmolar','T',T_,'Q',0,'CO2'), \n",
    "          'rhoVSW': CP.PropsSI('Dmolar','T',T_,'Q',1,'CO2')\n",
    "        })\n",
    "    except:\n",
    "        pass\n",
    "df = pandas.DataFrame(o)\n",
    "plt.plot(df['rhoL'], df['T'], 'r', label='PCSAFT+Q')\n",
    "plt.plot(df['rhoV'], df['T'], 'r')\n",
    "plt.plot(df['rhoLSW'], df['T'], 'k', label='S&W')\n",
    "plt.plot(df['rhoVSW'], df['T'], 'k')\n",
    "plt.legend()\n",
    "plt.gca().set(xlabel=r'$\\rho$ / mol/m$^3$', ylabel='$T$ / K')\n",
    "plt.show()"
   ]
  },
  {
   "cell_type": "code",
   "execution_count": 10,
   "id": "00312a15",
   "metadata": {
    "execution": {
     "iopub.execute_input": "2023-10-02T22:01:23.722630Z",
     "iopub.status.busy": "2023-10-02T22:01:23.721845Z",
     "iopub.status.idle": "2023-10-02T22:01:24.153750Z",
     "shell.execute_reply": "2023-10-02T22:01:24.153149Z"
    }
   },
   "outputs": [
    {
     "data": {
      "image/png": "[encoded data removed]",
      "text/plain": [
       "<Figure size 640x480 with 1 Axes>"
      ]
     },
     "metadata": {},
     "output_type": "display_data"
    }
   ],
   "source": [
    "# Acetone with dipolar contributions\n",
    "j = {\n",
    "    'kind': 'PCSAFT',\n",
    "    'model': {\n",
    "        'coeffs': [{\n",
    "            'name': 'acetone',\n",
    "             'BibTeXKey': 'Gross-IECR',\n",
    "             'm': 2.7447,\n",
    "             'sigma_Angstrom': 3.2742,\n",
    "             'epsilon_over_k': 232.99,\n",
    "             '(mu^*)^2': 1.9, # modified from the values in Gross and Vrabec since the base model is different\n",
    "             'nmu': 1\n",
    "        }]\n",
    "    }\n",
    "}\n",
    "\n",
    "model = teqp.make_model(j)\n",
    "Tc, rhoc = model.solve_pure_critical(300, 11000)\n",
    "\n",
    "T = Tc*0.999\n",
    "rhoL_, rhoV_ = model.extrapolate_from_critical(Tc, rhoc, T)\n",
    "rhoL, rhoV = model.pure_VLE_T(T, rhoL_, rhoV_, 10)\n",
    "\n",
    "import CoolProp.CoolProp as CP\n",
    "import matplotlib.pyplot as plt\n",
    "import pandas\n",
    "o = []\n",
    "for T_ in np.linspace(T, 215, 1000):\n",
    "    rhoL, rhoV = model.pure_VLE_T(T_, rhoL, rhoV, 10)\n",
    "    try:\n",
    "        o.append({\n",
    "          'T': T_, 'rhoL': rhoL, 'rhoV': rhoV, \n",
    "          'rhoLSW': CP.PropsSI('Dmolar','T',T_,'Q',0,'acetone'), \n",
    "          'rhoVSW': CP.PropsSI('Dmolar','T',T_,'Q',1,'acetone')\n",
    "        })\n",
    "    except:\n",
    "        pass\n",
    "df = pandas.DataFrame(o)\n",
    "plt.plot(df['rhoL'], df['T'], 'r', label='PCSAFT+D')\n",
    "plt.plot(df['rhoV'], df['T'], 'r')\n",
    "plt.plot(df['rhoLSW'], df['T'], 'k', label='S&W')\n",
    "plt.plot(df['rhoVSW'], df['T'], 'k')\n",
    "plt.legend()\n",
    "plt.gca().set(xlabel=r'$\\rho$ / mol/m$^3$', ylabel='$T$ / K')\n",
    "plt.show()"
   ]
  }
 ],
 "metadata": {
  "celltoolbar": "Raw Cell Format",
  "kernelspec": {
   "display_name": "Python 3 (ipykernel)",
   "language": "python",
   "name": "python3"
  },
  "language_info": {
   "codemirror_mode": {
    "name": "ipython",
    "version": 3
   },
   "file_extension": ".py",
   "mimetype": "text/x-python",
   "name": "python",
   "nbconvert_exporter": "python",
   "pygments_lexer": "ipython3",
   "version": "3.11.0"
  }
 },
 "nbformat": 4,
 "nbformat_minor": 5
}
